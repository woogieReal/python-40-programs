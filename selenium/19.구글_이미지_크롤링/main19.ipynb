{
 "cells": [
  {
   "cell_type": "code",
   "execution_count": null,
   "metadata": {},
   "outputs": [],
   "source": [
    "from webdriver_manager.chrome import ChromeDriverManager # 구글 크롬 드라이버의 자동설치를 위한 라이브러리를 불러옴\n",
    "from selenium import webdriver # 크롬 드라이버의 제어를 위해 selenium 라이브러리를 불러옴\n",
    "\n",
    "# 크롬 드라이버를 시작\n",
    "driver = webdriver.Chrome()\n",
    "\n",
    "# 구글의 이미지 검색 사이트로 이동\n",
    "URL='https://www.google.co.kr/imghp'\n",
    "driver.get(url=URL)\n",
    "\n",
    "# 사이트로 이동할 때까지 최대 10초 동안 기다림\n",
    "driver.implicitly_wait(time_to_wait=10)"
   ]
  },
  {
   "cell_type": "code",
   "execution_count": null,
   "metadata": {},
   "outputs": [],
   "source": [
    "from selenium.webdriver.common.keys import Keys # 키입력을 위한 라이브러리를 불러옴\n",
    "from selenium.webdriver.common.by import By # CSS 선택을 위한 라이브러리를 불러옴\n",
    "\n",
    "# 검색할 키워드인 \"바다\"를 입력하여 검색\n",
    "elem = driver.find_element(By.CSS_SELECTOR, \"#APjFqb\")\n",
    "elem.send_keys(\"바다\")\n",
    "elem.send_keys(Keys.RETURN)"
   ]
  },
  {
   "cell_type": "code",
   "execution_count": null,
   "metadata": {},
   "outputs": [],
   "source": [
    "import time\n",
    "\n",
    "# 바디 부분을 찾는다.\n",
    "elem = driver.find_element(By.TAG_NAME, \"body\")\n",
    "\n",
    "# 페이지 다운키를 60회 눌러 사진이 계속 보이도록 한다.\n",
    "for i in range(60): \n",
    "    elem.send_keys(Keys.PAGE_DOWN)\n",
    "    time.sleep(0.1)\n",
    "\n",
    "try:\n",
    "    # 중간에 [결과더보기] 버튼이 있다면 눌러서 계속 사진이 보이도록 한다. \n",
    "    driver.find_element(By.CSS_SELECTOR, '#islmp > div > div > div > div > div.gBPM8 > div.qvfT1 > div.YstHxe > input').click() \n",
    "    \n",
    "    # [결과더보기] 버튼이 눌린 후 페이지 다운키를 60회 눌러 사진이 계속 보이도록 한다.\n",
    "    for i in range(60): \n",
    "        elem.send_keys(Keys.PAGE_DOWN) \n",
    "        time.sleep(0.1) \n",
    "except: \n",
    "    pass"
   ]
  },
  {
   "cell_type": "code",
   "execution_count": 37,
   "metadata": {},
   "outputs": [
    {
     "name": "stdout",
     "output_type": "stream",
     "text": [
      " 찾은 이미지 개수: 238\n"
     ]
    }
   ],
   "source": [
    "links=[] \n",
    "\n",
    "# 이미지의 원소를 모두 찾는다.\n",
    "images = driver.find_elements(By.CSS_SELECTOR, \"#islrg > div.islrc > div > div > a.FRuiCf.islib.nfEiy > div.fR600b.islir > img\")\n",
    "\n",
    "for image in images:\n",
    "    if image.get_attribute('src') is not None:\n",
    "        links.append(image.get_attribute('src'))\n",
    "        \n",
    "print(' 찾은 이미지 개수:',len(links))"
   ]
  },
  {
   "attachments": {},
   "cell_type": "markdown",
   "metadata": {},
   "source": []
  },
  {
   "cell_type": "code",
   "execution_count": null,
   "metadata": {},
   "outputs": [],
   "source": [
    "import urllib.request # 사진을 다운로드 받기 위해 라이브러리를 불러옴\n",
    "\n",
    "for k,i in enumerate(links):\n",
    "    url = i\n",
    "    urllib.request.urlretrieve(url, \"/Users/woogie/Desktop/github/python-40-programs/selenium/19.구글_이미지_크롤링/사진다운로드/\"+str(k)+\".jpg\")\n",
    "\n",
    "print('다운로드 완료하였습니다.')"
   ]
  }
 ],
 "metadata": {
  "interpreter": {
   "hash": "b3ba2566441a7c06988d0923437866b63cedc61552a5af99d1f4fb67d367b25f"
  },
  "kernelspec": {
   "display_name": "Python 3.8.8 64-bit ('base': conda)",
   "language": "python",
   "name": "python3"
  },
  "language_info": {
   "codemirror_mode": {
    "name": "ipython",
    "version": 3
   },
   "file_extension": ".py",
   "mimetype": "text/x-python",
   "name": "python",
   "nbconvert_exporter": "python",
   "pygments_lexer": "ipython3",
   "version": "3.9.6"
  },
  "orig_nbformat": 4
 },
 "nbformat": 4,
 "nbformat_minor": 2
}
