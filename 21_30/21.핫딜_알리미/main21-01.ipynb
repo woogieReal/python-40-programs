{
 "cells": [
  {
   "cell_type": "code",
   "execution_count": 1,
   "metadata": {},
   "outputs": [
    {
     "name": "stderr",
     "output_type": "stream",
     "text": [
      "[WDM] - Downloading: 100%|██████████| 8.06M/8.06M [00:00<00:00, 24.8MB/s]\n",
      "/var/folders/z7/59y1w2zs675g_b2_gs4nl0r40000gn/T/ipykernel_15832/2941916457.py:4: DeprecationWarning: executable_path has been deprecated, please pass in a Service object\n",
      "  driver = webdriver.Chrome(ChromeDriverManager().install())\n"
     ]
    }
   ],
   "source": [
    "# 뽐뿌게시판 접속\n",
    "from webdriver_manager.chrome import ChromeDriverManager\n",
    "from selenium import webdriver\n",
    "\n",
    "driver = webdriver.Chrome(ChromeDriverManager().install())\n",
    "\n",
    "driver.get(url='https://www.ppomppu.co.kr/zboard/zboard.php?id=ppomppu')\n",
    "\n",
    "driver.implicitly_wait(time_to_wait=10)"
   ]
  },
  {
   "cell_type": "code",
   "execution_count": 2,
   "metadata": {},
   "outputs": [
    {
     "name": "stdout",
     "output_type": "stream",
     "text": [
      "[롯데온] 스테비아 방울토바토 3kg (20,400원/무료)\n",
      "https://www.ppomppu.co.kr/zboard/view.php?id=ppomppu&page=1&divpage=79&no=467367\n",
      "[쿠팡]다우니 섬유유연제 생화향기 미스티크 1L, 4개(13,000원/무배)\n",
      "https://www.ppomppu.co.kr/zboard/view.php?id=ppomppu&page=1&divpage=79&no=467366\n",
      "(티몬 타임딜) 1+1+1 빨아쓰는 규조토 발매트 11800원 (무배)\n",
      "https://www.ppomppu.co.kr/zboard/view.php?id=ppomppu&page=1&divpage=79&no=467365\n",
      "[쿠팡]다우니 섬유유연제 미스티크 1L * 5개 (쿠팡와우 16,250원/무배)\n",
      "https://www.ppomppu.co.kr/zboard/view.php?id=ppomppu&page=1&divpage=79&no=467364\n",
      "[에픽게임즈] Back 4 Blood 80% 할인 (13,760원)\n",
      "https://www.ppomppu.co.kr/zboard/view.php?id=ppomppu&page=1&divpage=79&no=467363\n",
      "[티몬] Akko MOD007 82키 유선(C타입) 기계식 키보드, 화이트, 피아노축 (53,294원/무료배송/KB추가할인)\n",
      "https://www.ppomppu.co.kr/zboard/view.php?id=ppomppu&page=1&divpage=79&no=467362\n",
      "[GS샵] 제주 초당옥수수 10개 15cm 이상 (19,900원/무료)\n",
      "https://www.ppomppu.co.kr/zboard/view.php?id=ppomppu&page=1&divpage=79&no=467361\n",
      "[SSG닷컴] 삼성전자 PM9A1 M.2 NVMe 병행수입 (1TB) (81,919/배송비 포함) ->삼성카드 구매시 76,185원(배송비포함)\n",
      "https://www.ppomppu.co.kr/zboard/view.php?id=ppomppu&page=1&divpage=79&no=467360\n",
      "[G마켓] 크리넥스 울트라크린 화이트비데 30mX30개 2팩 (30,700/무료)\n",
      "https://www.ppomppu.co.kr/zboard/view.php?id=ppomppu&page=1&divpage=79&no=467359\n",
      "[티몬] 실리콘 블랙핏 케이스 + 카드슬롯 + 그립톡 (갤럭시,아이폰) (3,800원/무료)\n",
      "https://www.ppomppu.co.kr/zboard/view.php?id=ppomppu&page=1&divpage=79&no=467358\n",
      "[지마켓] 국내산 재료로 담근 포기김치 배추김치 7kg (25,110원/무료배송)\n",
      "https://www.ppomppu.co.kr/zboard/view.php?id=ppomppu&page=1&divpage=79&no=467357\n",
      "[큐텐] 구글 네스트허브2세대 (63,230/무배)\n",
      "https://www.ppomppu.co.kr/zboard/view.php?id=ppomppu&page=1&divpage=79&no=467356\n",
      "[GOG] Amnesia: A Machine For Pigs (무료/무료)\n",
      "https://www.ppomppu.co.kr/zboard/view.php?id=ppomppu&page=1&divpage=79&no=467355\n",
      "[지마켓) 진라면 매운맛40봉(20,310/스마일무배)\n",
      "https://www.ppomppu.co.kr/zboard/view.php?id=ppomppu&page=1&divpage=79&no=467354\n",
      "[위메프] 차돌박이 300g 2팩 총 600g (8,840원/무료)\n",
      "https://www.ppomppu.co.kr/zboard/view.php?id=ppomppu&page=1&divpage=79&no=467353\n",
      "[홈플러스 앱] 구론산 바몬드 오리지널액 150ML*10 11,680원 1+1 (4만이상 무배) (3만원이상 구매시 1만원 할인쿠폰)\n",
      "https://www.ppomppu.co.kr/zboard/view.php?id=ppomppu&page=1&divpage=79&no=467352\n",
      "[11마존]Neiko 미러세트 (20,420원/조건부무료)\n",
      "https://www.ppomppu.co.kr/zboard/view.php?id=ppomppu&page=1&divpage=79&no=467351\n",
      "[위메프] 라이젠7600+4070 게이밍PC (1,369,000원/무료배송)\n",
      "https://www.ppomppu.co.kr/zboard/view.php?id=ppomppu&page=1&divpage=79&no=467350\n",
      "옛날과자2kg([옥션](12,890/무료배송)\n",
      "https://www.ppomppu.co.kr/zboard/view.php?id=ppomppu&page=1&divpage=79&no=467349\n",
      "[카카오]포켓몬 바나나 초코 우유 190ml 24입 (13,900/무료)\n",
      "https://www.ppomppu.co.kr/zboard/view.php?id=ppomppu&page=1&divpage=79&no=467348\n",
      "[카카오톡 스토어] 창고대방출 폴로 반팔티외 23종 23,900원~ (무배)\n",
      "https://www.ppomppu.co.kr/zboard/view.php?id=pmarket&&no=285469\n",
      "쿡솜씨 BEST 매콤오징어볶음 2인분, 여름신메뉴 외 밀키트 68종/ 33%+10%쿠폰까지! (8,800원)\n",
      "https://www.ppomppu.co.kr/hotdeal/?no=27025050\n",
      "백진미채 추천좀해주세요\n",
      "https://www.ppomppu.co.kr/zboard/view.php?id=social&no=37234\n",
      "소고기 : 이마트vs이마트트레이더스\n",
      "https://www.ppomppu.co.kr/zboard/view.php?id=social&no=37232\n",
      "<웹툰 페어>귀멸의칼날, 고수, 레벨업등..\n",
      "https://www.ppomppu.co.kr/zboard/view.php?id=social&no=37231\n"
     ]
    }
   ],
   "source": [
    "# 뽑뿌게시판 게시글들의 제목과 링크주소를 출력\n",
    "from selenium.webdriver.common.by import By\n",
    "\n",
    "titles = driver.find_elements(By.CSS_SELECTOR, '#revolution_main_table > tbody > tr > td:nth-child(3) > table > tbody > tr > td:nth-child(2) > div > a > font')\n",
    "urls = driver.find_elements(By.CSS_SELECTOR, '#revolution_main_table > tbody > tr > td:nth-child(3) > table > tbody > tr > td:nth-child(2) > div > a')\n",
    "\n",
    "for i in range(len(titles)):\n",
    "    print(titles[i].text)\n",
    "    print(urls[i].get_attribute('href'))"
   ]
  },
  {
   "cell_type": "code",
   "execution_count": 3,
   "metadata": {},
   "outputs": [
    {
     "name": "stdout",
     "output_type": "stream",
     "text": [
      "[지마켓] 국내산 재료로 담근 포기김치 배추김치 7kg (25,110원/무료배송)\n",
      "https://www.ppomppu.co.kr/zboard/view.php?id=ppomppu&page=1&divpage=79&no=467357\n"
     ]
    }
   ],
   "source": [
    "import telegram\n",
    "from dotenv import load_dotenv\n",
    "import os\n",
    "\n",
    "load_dotenv()\n",
    "\n",
    "message = \"\"\n",
    "for i in range(len(titles)):\n",
    "    if \"김치\" in titles[i].text:\n",
    "        message = titles[i].text + \"\\n\" + urls[i].get_attribute('href')\n",
    "        print(message)\n",
    "        token = os.environ.get('TELEGRAM_TOKEN')\n",
    "        id = os.environ.get('TELEGRAM_CHAT_ID')\n",
    "        \n",
    "        bot = telegram.Bot(token)\n",
    "        bot.send_message(chat_id=id, text=message)"
   ]
  }
 ],
 "metadata": {
  "kernelspec": {
   "display_name": "env",
   "language": "python",
   "name": "python3"
  },
  "language_info": {
   "codemirror_mode": {
    "name": "ipython",
    "version": 3
   },
   "file_extension": ".py",
   "mimetype": "text/x-python",
   "name": "python",
   "nbconvert_exporter": "python",
   "pygments_lexer": "ipython3",
   "version": "3.10.2"
  },
  "orig_nbformat": 4
 },
 "nbformat": 4,
 "nbformat_minor": 2
}
